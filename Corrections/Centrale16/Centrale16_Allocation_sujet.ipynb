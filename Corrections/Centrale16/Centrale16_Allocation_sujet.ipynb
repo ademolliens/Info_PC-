{
 "cells": [
  {
   "cell_type": "markdown",
   "id": "bcbb4919",
   "metadata": {},
   "source": [
    "# Prévention des collisions aériennes"
   ]
  },
  {
   "cell_type": "markdown",
   "id": "0a34613e",
   "metadata": {},
   "source": [
    "## Partie II : Allocation des niveaux de vol"
   ]
  },
  {
   "cell_type": "markdown",
   "id": "b28a8936",
   "metadata": {},
   "source": [
    "Lors du dépôt d’un plan de vol, la compagnie aérienne doit préciser à quel niveau de vol elle souhaite faire évoluer son avion lors de la phase de croisière. Ce niveau de vol souhaité, le RFL pour requested flight level, correspond le plus souvent à l’altitude à laquelle la consommation de carburant sera minimale. Cette altitude dépend du type d’avion, de sa charge, de la distance à parcourir, des conditions météorologiques, etc.\n",
    "\n",
    "Cependant, du fait des similitudes entre les différents avions qui équipent les compagnies aériennes, certains niveaux de vols sont très demandés ce qui engendre des conflits potentiels, deux avions risquant de se croiser à des altitudes proches. Les contrôleurs aériens de la région concernée par un conflit doivent alors gérer le croisement de ces deux avions.\n",
    "\n",
    "Pour alléger le travail des contrôleurs et diminuer les risques, le système de régulation s’autorise à faire voler un avion à un niveau différent de son RFL. Cependant, cela engendre généralement une augmentation de la consommation de carburant. C’est pourquoi on limite le choix aux niveaux immédiatement supérieur et inférieur au RFL.\n",
    "\n",
    "Ce problème de régulation est modélisé par un graphe dans lequel chaque vol est représenté par trois sommets. Le sommet 0 correspond à l’attribution du RFL, le sommet + au niveau supérieur et le sommet − au niveau inférieur. Chaque conflit potentiel entre deux vols sera représenté par une arête reliant les deux sommets concernés. Le cout d’un conflit potentiel (plus ou moins important en fonction de sa durée, de la distance minimale entre les avions, etc.) sera représenté par une valuation sur l’arête correspondante."
   ]
  },
  {
   "cell_type": "markdown",
   "id": "8d593966",
   "metadata": {},
   "source": [
    "<img src=\"fig/Centrale16_fig3.pdf\" alt=\"drawing\" width=\"400\"/>"
   ]
  },
  {
   "cell_type": "markdown",
   "id": "375894b9",
   "metadata": {},
   "source": [
    "Dans l’exemple de la figure 3, faire voler les trois avions à leur RFL engendre un cout de régulation entre A et B de 100 et un cout de régulation entre B et C de 400, soit un cout total de la régulation de 500 (il n’y a pas de conflit entre A et C). Faire voler l’avion A à son RFL et les avions B et C au-dessus de leur RFL engendre un conflit potentiel de cout 100 entre A et B et 150 entre A et C, soit un cout total de 250 (il n’y a plus de conflit entre B et C).\n",
    "\n",
    "On peut observer que cet exemple possède des solutions de cout nul, par exemple faire voler A et C à leur RFL et B au-dessous de son RFL. Mais en général le nombre d’avions en vol est tel que des conflits potentiels sont inévitables. Le but de la régulation est d’imposer des plans de vol qui réduisent le plus possible le cout total de la résolution des conflits."
   ]
  },
  {
   "cell_type": "markdown",
   "id": "dd7c962d",
   "metadata": {},
   "source": [
    "### II.A - Implantation du problème"
   ]
  },
  {
   "cell_type": "markdown",
   "id": "574d9554",
   "metadata": {},
   "source": [
    "Chaque vol étant représenté par trois sommets, le graphe des conflits associé à n vols $v_{0}$ , $v_{1}$ , . . ., $v_{n-1}$ possède 3n sommets que nous numéroterons de 0 à 3n − 1. Nous conviendrons que pour $0 \\le k \\le n$ :<br>\n",
    "− le sommet 3k représente le vol $v_k$ à son RFL ;<br>\n",
    "− le sommet 3k + 1 représente le vol $v_k$ au-dessus de son RFL ; <br>\n",
    "− le sommet 3k + 2 représente le vol $v_k$ au-dessous de son RFL ;<br>\n",
    "\n",
    "Le cout de chaque conflit potentiel est stocké dans une liste de 3n listes de 3n entiers (tableau 3n × 3n) accessible grâce à la variable globale conflit : si i et j désignent deux sommets du graphe, alors conflit[i][j] est égal au cout du conflit potentiel (s’il existe) entre les plans de vol représentés par les sommets i et j. S’il n’y a pas de conflit entre ces deux sommets, conflit[i][j] vaut 0. On convient que conflit[i][j] vaut 0 si les sommets i et j correspondent au même vol (figure 4).\n",
    "\n",
    "On notera que pour tout couple de sommets (i, j), conflit[i][j] et conflit[j][i], représentent un seul et même conflit et donc conflit[i][j] == conflit[j][i].\n"
   ]
  },
  {
   "cell_type": "markdown",
   "id": "9a219cfa",
   "metadata": {},
   "source": [
    "<img src=\"fig/Centrale16_fig4.pdf\" alt=\"drawing\" width=\"600\"/>"
   ]
  },
  {
   "cell_type": "markdown",
   "id": "6703b3d5",
   "metadata": {},
   "source": [
    "NB : on introduit ici la variable globale **conflit** qui peut être utilisé pour tester votre code."
   ]
  },
  {
   "cell_type": "code",
   "execution_count": 2,
   "id": "d60f001d",
   "metadata": {},
   "outputs": [
    {
     "name": "stdout",
     "output_type": "stream",
     "text": [
      "[[0, 0, 0, 100, 100, 0, 0, 150, 0], [0, 0, 0, 0, 0, 50, 0, 0, 0], [0, 0, 0, 0, 200, 0, 0, 300, 500], [100, 0, 0, 0, 0, 0, 400, 0, 0], [100, 0, 200, 0, 0, 0, 200, 0, 100], [0, 50, 0, 0, 0, 0, 0, 0, 0], [0, 0, 0, 400, 200, 0, 0, 0, 0, 0], [150, 0, 300, 0, 0, 0, 0, 0, 0], [0, 0, 50, 0, 100, 0, 0, 0, 0]]\n"
     ]
    }
   ],
   "source": [
    "conflit = [ [ 0, 0, 0, 100, 100, 0, 0, 150, 0],\n",
    "[ 0, 0, 0, 0, 0, 50, 0, 0, 0],\n",
    "[ 0, 0, 0, 0, 200, 0, 0, 300, 500],\n",
    "[ 100, 0, 0, 0, 0, 0, 400, 0, 0],\n",
    "[ 100, 0, 200, 0, 0, 0, 200, 0, 100],\n",
    "[ 0, 50, 0, 0, 0, 0, 0, 0, 0],\n",
    "[ 0, 0, 0, 400, 200, 0, 0, 0, 0, 0],\n",
    "[ 150, 0, 300, 0, 0, 0, 0, 0, 0],\n",
    "[0, 0, 50, 0, 100, 0, 0, 0, 0]]"
   ]
  },
  {
   "cell_type": "markdown",
   "id": "a3b4272a",
   "metadata": {},
   "source": [
    "**II.A.1)** Écrire en Python une fonction **nb_conflits()** sans paramètre qui renvoie le nombre de conflits potentiels, c’est-à -dire le nombre d’arêtes de valuation non nulle du graphe. "
   ]
  },
  {
   "cell_type": "code",
   "execution_count": 3,
   "id": "c5504891",
   "metadata": {
    "code_folding": []
   },
   "outputs": [
    {
     "name": "stdout",
     "output_type": "stream",
     "text": [
      "10\n"
     ]
    }
   ],
   "source": [
    "def nb_conflits():\n",
    "    pass\n",
    "\n",
    "#print(nb_conflits())"
   ]
  },
  {
   "cell_type": "markdown",
   "id": "af737e70",
   "metadata": {},
   "source": [
    "**II.A.2)** Exprimer en fonction de n la complexité de cette fonction."
   ]
  },
  {
   "cell_type": "markdown",
   "id": "ab1c4443",
   "metadata": {},
   "source": [
    "La boucle interne a une complexité en O(i) donc la fonction a une complexité en O(n$^2$)."
   ]
  },
  {
   "cell_type": "markdown",
   "id": "bd0d5ab9",
   "metadata": {},
   "source": [
    "### II.B – Régulation"
   ]
  },
  {
   "cell_type": "markdown",
   "id": "8fd677a5",
   "metadata": {},
   "source": [
    "Pour un vol $v_k$ on appelle niveau relatif l’entier $r_k$ valant 0, 1 ou 2 tel que :<br>\n",
    "− rk = 0 représente le vol $v_k$ à son RFL ;<br>\n",
    "− rk = 1 représente le vol $v_k$ au-dessus de son RFL ; <br>\n",
    "− rk = 2 représente le vol $v_k$ au-dessous son RFL.<br>\n",
    "\n",
    "On appelle régulation la liste ($r_0$, $r_1$, . . . , $r_{n−1}$). Par exemple, la régulation (0, 0, . . . , 0) représente la situation dans laquelle chaque avion se voit attribuer son RFL. Une régulation sera implantée en Python par une liste d’entiers.\n",
    "\n",
    "Il pourra être utile d’observer que les sommets du graphe des conflits choisis par la régulation $r$ portent les numéros 3k + rk pour $0 \\le k < n$. On remarque également qu’au sommet $s$ du graphe correspond le niveau relatif $r_k$ = $s$ mod 3 et le vol $v_k$ tel que k=⌊s/3⌋.\n"
   ]
  },
  {
   "cell_type": "markdown",
   "id": "1a4c9c08",
   "metadata": {},
   "source": [
    "**II.B.1)** Écrire en Python une fonction **nb_vol_par_niveau_relatif(regulation)** qui prend en paramètre une régulation (liste de n entiers) et qui renvoie une liste de 3 entiers [a, b, c] dans laquelle a est le nombre de vols à leurs niveaux RFL, b le nombre de vols au-dessus de leurs niveaux RFL et c le nombre de vols au-dessous de leurs niveaux RFL."
   ]
  },
  {
   "cell_type": "code",
   "execution_count": 5,
   "id": "3228864f",
   "metadata": {},
   "outputs": [],
   "source": [
    "reg = [0, 0, 0] # exemple de régulation avec chaque vol à son RFL pour tester le code "
   ]
  },
  {
   "cell_type": "code",
   "execution_count": 6,
   "id": "0e123fdd",
   "metadata": {},
   "outputs": [
    {
     "name": "stdout",
     "output_type": "stream",
     "text": [
      "[3, 0, 0]\n"
     ]
    }
   ],
   "source": [
    "def nb_vol_par_niveau_relatif(regulation):\n",
    "    pass\n",
    "\n",
    "#print(nb_vol_par_niveau_relatif(reg))"
   ]
  },
  {
   "cell_type": "markdown",
   "id": "445e2aae",
   "metadata": {},
   "source": [
    "**II.B.2) Cout d’une régulation**\n",
    "On appelle cout d’une régulation la somme des couts des conflits potentiels que cette régulation engendre."
   ]
  },
  {
   "cell_type": "markdown",
   "id": "fe338530",
   "metadata": {},
   "source": [
    "a) Écrire en Python une fonction **cout_regulation(regulation)** qui prend en paramètre une liste représentant\n",
    "une régulation et qui renvoie le cout de celle-ci."
   ]
  },
  {
   "cell_type": "code",
   "execution_count": 7,
   "id": "b2ad2559",
   "metadata": {},
   "outputs": [
    {
     "name": "stdout",
     "output_type": "stream",
     "text": [
      "500\n"
     ]
    }
   ],
   "source": [
    "def cout_regulation(regulation):\n",
    "    pass\n",
    "\n",
    "#print(cout_regulation(reg))"
   ]
  },
  {
   "cell_type": "markdown",
   "id": "4ef33400",
   "metadata": {},
   "source": [
    "b) Évaluer en fonction de n, la complexité de cette fonction. "
   ]
  },
  {
   "cell_type": "markdown",
   "id": "72380a2b",
   "metadata": {},
   "source": [
    "Le coût de la première boucle est en O(n) et celle des deux autres est comme précédemment en O(n$^2$) soit un coût total en O(n$^2$)."
   ]
  },
  {
   "cell_type": "markdown",
   "id": "76756509",
   "metadata": {},
   "source": [
    "c) Déduire de la question a) une fonction cout_RFL() qui renvoie le cout de la régulation pour laquelle chaque avion vole à son RFL."
   ]
  },
  {
   "cell_type": "code",
   "execution_count": 8,
   "id": "ea1b5ae4",
   "metadata": {},
   "outputs": [
    {
     "name": "stdout",
     "output_type": "stream",
     "text": [
      "500\n"
     ]
    }
   ],
   "source": [
    "def cout_RFL():\n",
    "    pass\n",
    "\n",
    "#print(cout_RFL())"
   ]
  },
  {
   "cell_type": "markdown",
   "id": "6464aace",
   "metadata": {},
   "source": [
    "**II.B.3)** Combien existe-t-il de régulations possibles pour n vols ?\n",
    "Est-il envisageable de calculer les couts de toutes les régulations possibles pour trouver celle de cout minimal ?"
   ]
  },
  {
   "cell_type": "markdown",
   "id": "d6170f6b",
   "metadata": {},
   "source": [
    "Pour chaque vol, il y a 3 niveaux relatifs, donc il y a 3$^n$ régulations possibles. Le calcul de tous les coûts possibles serait exponentiel, ce qui est déraisonnable."
   ]
  },
  {
   "cell_type": "markdown",
   "id": "ad4e633c",
   "metadata": {},
   "source": [
    "**II.C – L’algorithme Minimal**\n",
    "\n",
    "On définit le cout d’un sommet comme la somme des couts des conflits potentiels dans lesquels ce sommet intervient. Par exemple, le cout du sommet correspondant au niveau RFL de l’avion A dans le graphe de la figure 3 est égal à 100 + 100 + 150 = 350.\n",
    "\n",
    "L’algorithme Minimal consiste à sélectionner le sommet du graphe de cout minimal ; une fois ce dernier trouvé, les deux autres niveaux possibles de ce vol sont supprimés du graphe et on recommence avec ce nouveau graphe jusqu’à avoir attribué un niveau à chaque vol.\n",
    "\n",
    "Dans la pratique, plutôt que de supprimer effectivement des sommets du graphe, on utilise une liste etat_sommet de 3n entiers tels que :\n",
    "− etat_sommet[s] vaut 0 lorsque le sommet s a été supprimé du graphe ;\n",
    "− etat_sommet[s] vaut 1 lorsque le sommet s a été choisi dans la régulation ; \n",
    "− etat_sommet[s] vaut 2 dans les autres cas."
   ]
  },
  {
   "cell_type": "markdown",
   "id": "4278ea91",
   "metadata": {},
   "source": [
    "**II.C.1)** "
   ]
  },
  {
   "cell_type": "markdown",
   "id": "f900bb89",
   "metadata": {},
   "source": [
    "a) Écrire en Python une fonction **cout_du_sommet(s, etat_sommet)** qui prend en paramètres un numéro de sommet s (n’ayant pas été supprimé) ainsi que la liste etat_sommet et qui renvoie le cout du sommet s dans le graphe défini par la variable globale conflit et le paramètre etat_sommet."
   ]
  },
  {
   "cell_type": "code",
   "execution_count": null,
   "id": "c809ab84",
   "metadata": {},
   "outputs": [],
   "source": [
    "def cout_du_sommet(s, etat_sommet):\n",
    "    pass"
   ]
  },
  {
   "cell_type": "markdown",
   "id": "a7469871",
   "metadata": {},
   "source": [
    "b) Exprimer en fonction de n la complexité de la fonction cout_du_sommet."
   ]
  },
  {
   "cell_type": "markdown",
   "id": "4577ed54",
   "metadata": {},
   "source": [
    "Une simple boucle dont le corps est enO(1),la complexité est en O(N) = O(n)(N = 3n)."
   ]
  },
  {
   "cell_type": "markdown",
   "id": "a122d943",
   "metadata": {},
   "source": [
    "**II.C.2)**"
   ]
  },
  {
   "cell_type": "markdown",
   "id": "af7aa464",
   "metadata": {},
   "source": [
    "a) Écrire en Python une fonction **sommet_de_cout_min(etat_sommet)** qui, parmi les sommets qui n’ont pas encore été choisis ou supprimés, renvoie le numéro du sommet de cout minimal."
   ]
  },
  {
   "cell_type": "code",
   "execution_count": null,
   "id": "16891320",
   "metadata": {},
   "outputs": [],
   "source": [
    "def sommet_de_cout_min(etat_sommet):\n",
    "    pass"
   ]
  },
  {
   "cell_type": "markdown",
   "id": "8f94821c",
   "metadata": {},
   "source": [
    "b) Exprimer en fonction de n la complexité de la fonction sommet_de_cout_min."
   ]
  },
  {
   "cell_type": "markdown",
   "id": "1adb6f98",
   "metadata": {},
   "source": [
    "On applique au plus N fois la fonction cout_du_sommet, donc le complexité est en O(N$^2$) = O(n$^2$), le reste est négligeable."
   ]
  },
  {
   "cell_type": "markdown",
   "id": "7f6f11be",
   "metadata": {},
   "source": [
    "**II.C.3)**"
   ]
  },
  {
   "cell_type": "markdown",
   "id": "68f883a3",
   "metadata": {},
   "source": [
    "a) En déduire une fonction **minimal()** qui renvoie la régulation résultant de l’application de l’algorithme Minimal. "
   ]
  },
  {
   "cell_type": "code",
   "execution_count": null,
   "id": "e6424ca4",
   "metadata": {},
   "outputs": [],
   "source": [
    "def minimal():\n",
    "    pass"
   ]
  },
  {
   "cell_type": "markdown",
   "id": "c083e323",
   "metadata": {},
   "source": [
    "b) Quelle est sa complexité ? Commenter."
   ]
  },
  {
   "cell_type": "markdown",
   "id": "02ecf6d0",
   "metadata": {},
   "source": [
    "On applique N /3 = n fois la fonction sommet_de_cout_min car à chaque étape 3 sommets changent d’état ce qui donne du O(n$^3$). La deuxième boucle étant en O(n), on obtient une complexité en O(n$3$). C’est polynomial et beaucoup mieux que la force brute proposée en II.B.3 !"
   ]
  },
  {
   "cell_type": "markdown",
   "id": "ccbbf021",
   "metadata": {},
   "source": [
    "**II.D - Recuit simulé**\n",
    "\n",
    "L’algorithme de recuit simulé part d’une régulation initiale quelconque (par exemple la régulation pour laquelle chacun des avions vole à son RFL) et d’une valeur positive T choisie empiriquement. Il réalise un nombre fini d’étapes se déroulant ainsi :\n",
    "− un vol $v_k$ est tiré au hasard;\n",
    "− on modifie $r_k$ en tirant au hasard parmi les deux autres valeurs possibles ;\n",
    "• si cette modification diminue le cout de la régulation, cette modification est conservée ;\n",
    "• sinon, cette modification n’est conservée qu’avec une probabilité p = exp(−∆c/T ), où ∆c est l’augmentation\n",
    "de cout liée à la modification de la régulation ; \n",
    "− le paramètre T est diminué d’une certaine quantité."
   ]
  },
  {
   "cell_type": "markdown",
   "id": "6049e25c",
   "metadata": {},
   "source": [
    "Écrire en Python une fonction **recuit(regulation)** qui modifie la liste regulation passée en paramètre en appli- quant l’algorithme du recuit simulé. On fera débuter l’algorithme avec la valeur T = 1000 et à chaque étape la valeur de T sera diminuée de 1%. L’algorithme se terminera lorsque T < 1."
   ]
  },
  {
   "cell_type": "code",
   "execution_count": null,
   "id": "085e2fa9",
   "metadata": {},
   "outputs": [],
   "source": [
    "def recuit(regulation):\n",
    "    pass"
   ]
  },
  {
   "cell_type": "markdown",
   "id": "f079bd11",
   "metadata": {},
   "source": [
    "Remarque. Dans la pratique, l’algorithme de recuit simulé est appliqué plusieurs fois de suite en partant à chaque fois de la régulation obtenue à l’étape précédente, jusqu’à ne plus trouver d’amélioration notable."
   ]
  }
 ],
 "metadata": {
  "kernelspec": {
   "display_name": "Python 3",
   "language": "python",
   "name": "python3"
  },
  "language_info": {
   "codemirror_mode": {
    "name": "ipython",
    "version": 3
   },
   "file_extension": ".py",
   "mimetype": "text/x-python",
   "name": "python",
   "nbconvert_exporter": "python",
   "pygments_lexer": "ipython3",
   "version": "3.8.3"
  },
  "latex_envs": {
   "LaTeX_envs_menu_present": true,
   "autoclose": false,
   "autocomplete": true,
   "bibliofile": "biblio.bib",
   "cite_by": "apalike",
   "current_citInitial": 1,
   "eqLabelWithNumbers": true,
   "eqNumInitial": 1,
   "hotkeys": {
    "equation": "Ctrl-E",
    "itemize": "Ctrl-I"
   },
   "labels_anchors": false,
   "latex_user_defs": false,
   "report_style_numbering": false,
   "user_envs_cfg": false
  },
  "varInspector": {
   "cols": {
    "lenName": 16,
    "lenType": 16,
    "lenVar": 40
   },
   "kernels_config": {
    "python": {
     "delete_cmd_postfix": "",
     "delete_cmd_prefix": "del ",
     "library": "var_list.py",
     "varRefreshCmd": "print(var_dic_list())"
    },
    "r": {
     "delete_cmd_postfix": ") ",
     "delete_cmd_prefix": "rm(",
     "library": "var_list.r",
     "varRefreshCmd": "cat(var_dic_list()) "
    }
   },
   "types_to_exclude": [
    "module",
    "function",
    "builtin_function_or_method",
    "instance",
    "_Feature"
   ],
   "window_display": false
  }
 },
 "nbformat": 4,
 "nbformat_minor": 5
}
