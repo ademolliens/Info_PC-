{
 "cells": [
  {
   "cell_type": "markdown",
   "id": "c3e4f21d",
   "metadata": {},
   "source": [
    "# Mines-Ponts 2021 - Partie II : Mouvement brownien d'une petite particule"
   ]
  },
  {
   "cell_type": "markdown",
   "id": "f4e840e7",
   "metadata": {},
   "source": [
    "De petites particules en suspension dans un liquide se déplacent spontanément sous l’effet de l’agitation thermique du milieu environnant, donnant ainsi naissance à des trajectoires apparemment chaotiques et peu régulières. Ce phénomène est à la base de la vie : l’agitation incessante des protéines permet aux réactions biochimiques de se produire à l’intérieur de nos cellules. Il a été observé expérimentalement en 1827 sur des grains de pollen en suspension dans l’eau par le botaniste Robert Brown, d’où le nom de mouvement brownien. Son étude théorique par Albert Einstein en 1905 a permis au physicien Jean Perrin d’estimer la valeur du nombre d’Avogadro dans une série d’expériences menées entre 1907 et 1909.\n",
    "\n",
    "Dans cette partie, on s’intéresse à un modèle du mouvement brownien proposé par Paul Langevin en 1908. Dans ce modèle, la particule étudiée est supposée soumise à deux actions de la part du fluide :\n",
    "- une force de frottement fluide $\\vec{f}_{F} = - \\alpha \\vec{v}$ ;\n",
    "- une force $\\vec{f}_{B}$ aléatoire simulant l’action désordonnée des molécules d’eau sur la particule. \n",
    "\n",
    "Le mouvement de cette particule est donc régi par l’équation différentielle : $\\dfrac{\\mathrm{d}\\vec{v}}{\\mathrm{d} t} = - \\dfrac{\\alpha \\vec{v}}{m} + \\dfrac{\\vec{f}_{B}}{m}$.\n",
    "\n",
    "Pour faire une simulation en deux dimensions, on prend une particule de masse m = $10^{−6}$ kg, on attribue à $\\alpha$ la valeur $10^{−5}$ kg/s, on suppose enfin que $\\vec{f}_{B}$ change à chaque pas d’intégration, avec une direction isotrope aléatoire (l’angle suit une loi de probabilité uniforme) et une norme qui est la valeur absolue d’une variable aléatoire suivant une loi de probabilité gaussienne (loi normale) d’espérance $\\mu$ nulle et d’écart-type $\\sigma$ = $10^{−8}$ N.\n",
    "\n",
    "On simule le vecteur d’état $E = (x, y, \\dot{x}, \\dot{y})$ de la particule en intégrant $\\dot{E} = (\\dot{x},\\dot{y},\\ddot{x},\\ddot{y})$ selon la méthode d’Euler. $E$ et $\\dot{E}$ seront chacun représentés par une liste de 4 flottants.\n",
    "\n",
    "L’instruction \\textbf{assert expression} de Python vérifie la véracité d’une expression booléenne et interrompt brutalement l’exécution du programme si ce n’est pas le cas. Elle permet de vérifier très simplement une précondition ou un invariant, comme illustré dans la trame du programme ci-dessous.\n",
    "\n",
    "Le module **random** fournit la fonction **uniform(bi, bs)** qui renvoie un flottant aléatoire entre les valeurs bi et bs incluses en utilisant une densité de probabilité uniforme ainsi que la fonction **gauss(mu, sigma)** qui renvoie un flottant aléatoire en utilisant une densité de probabilité gaussienne d’espérance mu et d’écart-type sigma.\n",
    "Le module math fournit enfin les fonctions cos et sin (en radians), la fonction sqrt et la constante pi. La fonction abs est directement disponible."
   ]
  },
  {
   "cell_type": "code",
   "execution_count": 1,
   "id": "e4335d14",
   "metadata": {},
   "outputs": [],
   "source": [
    "# import python à compléter\n",
    "from math import sin, cos, pi  \n",
    "from random import uniform,gauss"
   ]
  },
  {
   "cell_type": "code",
   "execution_count": 2,
   "id": "099eff2d",
   "metadata": {},
   "outputs": [],
   "source": [
    "# paramètres physiques\n",
    "MU=0\n",
    "SIGMA=1E-8\n",
    "M=1E-6\n",
    "ALPHA=1E-5\n",
    "\n",
    "# vérification des hypothèses sur les paramètres\n",
    "assert MU>=0 and SIGMA>0 and M>0 and ALPHA>0"
   ]
  },
  {
   "cell_type": "markdown",
   "id": "0b09c8f5",
   "metadata": {},
   "source": [
    "Q10 - Implémmenter la fonction **vma(v1, a, v2)** (multiplication-addition sur des vecteurs) avec v1 et v2 des listes de flottants et a un scalaire flottant, qui renvoie une nouvelle liste de flottants correspondant à : $\\vec{v} = \\vec{v}_{1} + a.\\vec{v}_{2}$. La fonction verifiera que les deux listes en entrée sont de même longueur avec assert."
   ]
  },
  {
   "cell_type": "code",
   "execution_count": 3,
   "id": "c7109550",
   "metadata": {},
   "outputs": [],
   "source": [
    "def vma(v1,a,v2) :\n",
    "    pass"
   ]
  },
  {
   "cell_type": "markdown",
   "id": "7db65e65",
   "metadata": {},
   "source": [
    "Q11 - Implémenter la fonction **derive(E)** qui renvoie la dérivée du vecteur d'état passé en paramètre d'après l'équation différentielle décrite en introduction de la partie."
   ]
  },
  {
   "cell_type": "code",
   "execution_count": 4,
   "id": "7549b68b",
   "metadata": {},
   "outputs": [],
   "source": [
    "def derive(E) :\n",
    "    pass"
   ]
  },
  {
   "cell_type": "markdown",
   "id": "7883ee73",
   "metadata": {},
   "source": [
    "Q12 - Implémenter la fonction **euler(E0, dt, n)** pour résoudre numériquement l’équation différentielle par la méthode d’Euler avec E0 le vecteur d’état initial, dt le pas d’intégration et n le nombre de pas de la simulation. La fonction renvoie la liste des n + 1 vecteurs d’état."
   ]
  },
  {
   "cell_type": "code",
   "execution_count": 5,
   "id": "28e15b0c",
   "metadata": {},
   "outputs": [],
   "source": [
    "def euler(E0,dt,n) :\n",
    "    pass"
   ]
  },
  {
   "cell_type": "markdown",
   "id": "78506b72",
   "metadata": {},
   "source": [
    "À titre d’exemple, voici le tracé d’une trajectoire obtenue par cette méthode (exécuter la cellule suivant)."
   ]
  },
  {
   "cell_type": "code",
   "execution_count": 1,
   "id": "f0bf2058",
   "metadata": {},
   "outputs": [
    {
     "ename": "NameError",
     "evalue": "name 'euler' is not defined",
     "output_type": "error",
     "traceback": [
      "\u001b[0;31m---------------------------------------------------------------------------\u001b[0m",
      "\u001b[0;31mNameError\u001b[0m                                 Traceback (most recent call last)",
      "\u001b[0;32m<ipython-input-1-67944e964f43>\u001b[0m in \u001b[0;36m<module>\u001b[0;34m\u001b[0m\n\u001b[1;32m      3\u001b[0m \u001b[0mN\u001b[0m\u001b[0;34m=\u001b[0m\u001b[0;36m5000\u001b[0m     \u001b[0;31m# nombre de pas\u001b[0m\u001b[0;34m\u001b[0m\u001b[0;34m\u001b[0m\u001b[0m\n\u001b[1;32m      4\u001b[0m \u001b[0;34m\u001b[0m\u001b[0m\n\u001b[0;32m----> 5\u001b[0;31m \u001b[0mEs\u001b[0m\u001b[0;34m=\u001b[0m\u001b[0meuler\u001b[0m\u001b[0;34m(\u001b[0m\u001b[0;34m[\u001b[0m\u001b[0;36m0.0\u001b[0m\u001b[0;34m,\u001b[0m\u001b[0;36m0.0\u001b[0m\u001b[0;34m,\u001b[0m\u001b[0;36m0.0\u001b[0m\u001b[0;34m,\u001b[0m\u001b[0;36m0.0\u001b[0m\u001b[0;34m]\u001b[0m\u001b[0;34m,\u001b[0m\u001b[0mDT\u001b[0m\u001b[0;34m,\u001b[0m\u001b[0mN\u001b[0m\u001b[0;34m)\u001b[0m\u001b[0;34m\u001b[0m\u001b[0;34m\u001b[0m\u001b[0m\n\u001b[0m\u001b[1;32m      6\u001b[0m \u001b[0;34m\u001b[0m\u001b[0m\n\u001b[1;32m      7\u001b[0m \u001b[0;31m### zone de test\u001b[0m\u001b[0;34m\u001b[0m\u001b[0;34m\u001b[0m\u001b[0;34m\u001b[0m\u001b[0m\n",
      "\u001b[0;31mNameError\u001b[0m: name 'euler' is not defined"
     ]
    }
   ],
   "source": [
    "# simulation\n",
    "DT=0.002   # durée du pas en secondes\n",
    "N=5000     # nombre de pas\n",
    "\n",
    "Es=euler([0.0,0.0,0.0,0.0],DT,N)\n",
    "\n",
    "### zone de test\n",
    "\n",
    "import matplotlib.pyplot as plt\n",
    "\n",
    "Lx=[1000*elem[0] for elem in Es]\n",
    "Ly=[1000*elem[1] for elem in Es]\n",
    "plt.plot(Lx,Ly)\n",
    "plt.xlabel(\"x(mm)\")\n",
    "plt.ylabel(\"y(mm)\")\n",
    "plt.show()\n",
    "\n",
    "# le graphique obtenu n'est pas à la même échelle que celui de l'énoncé"
   ]
  },
  {
   "cell_type": "code",
   "execution_count": null,
   "id": "e17ff11b",
   "metadata": {},
   "outputs": [],
   "source": []
  }
 ],
 "metadata": {
  "kernelspec": {
   "display_name": "Python 3",
   "language": "python",
   "name": "python3"
  },
  "language_info": {
   "codemirror_mode": {
    "name": "ipython",
    "version": 3
   },
   "file_extension": ".py",
   "mimetype": "text/x-python",
   "name": "python",
   "nbconvert_exporter": "python",
   "pygments_lexer": "ipython3",
   "version": "3.8.3"
  },
  "latex_envs": {
   "LaTeX_envs_menu_present": true,
   "autoclose": false,
   "autocomplete": true,
   "bibliofile": "biblio.bib",
   "cite_by": "apalike",
   "current_citInitial": 1,
   "eqLabelWithNumbers": true,
   "eqNumInitial": 1,
   "hotkeys": {
    "equation": "Ctrl-E",
    "itemize": "Ctrl-I"
   },
   "labels_anchors": false,
   "latex_user_defs": false,
   "report_style_numbering": false,
   "user_envs_cfg": false
  },
  "varInspector": {
   "cols": {
    "lenName": 16,
    "lenType": 16,
    "lenVar": 40
   },
   "kernels_config": {
    "python": {
     "delete_cmd_postfix": "",
     "delete_cmd_prefix": "del ",
     "library": "var_list.py",
     "varRefreshCmd": "print(var_dic_list())"
    },
    "r": {
     "delete_cmd_postfix": ") ",
     "delete_cmd_prefix": "rm(",
     "library": "var_list.r",
     "varRefreshCmd": "cat(var_dic_list()) "
    }
   },
   "types_to_exclude": [
    "module",
    "function",
    "builtin_function_or_method",
    "instance",
    "_Feature"
   ],
   "window_display": false
  }
 },
 "nbformat": 4,
 "nbformat_minor": 5
}
