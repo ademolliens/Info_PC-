{
 "cells": [
  {
   "cell_type": "markdown",
   "id": "e361c413",
   "metadata": {},
   "source": [
    "# Mines-Ponts 2021 - Partie III - Marche auto-évitante"
   ]
  },
  {
   "cell_type": "markdown",
   "id": "d25e4dd9",
   "metadata": {},
   "source": [
    "Une marche auto-évitante est un processus au cours duquel un point décrit un chemin auto-évitant, c’est-à- dire qui ne se recoupe jamais lui-même. Ce modèle peut servir lors de la modélisation d’une chaîne polymère. En effet, deux monomères distincts de la chaîne ne peuvent pas se trouver à deux positions identiques pour des raisons d’encombrement stérique.\n",
    "\n",
    "Dans ce sujet, on appellera chemin auto-évitant (CAE) de longueur n tout ensemble de n + 1 points $P_{i} \\in \\mathbb{Z}^{2}$ pour 0 ≤ i ≤ n tels que :\n",
    "- $\\forall i$ $\\left\\|P_{i+1}-P_{i}\\right\\|=1$\n",
    "- $\\forall(i,j)$  $i\\ne j \\Rightarrow P_{i}\\ne P_{j}$ \n",
    "\n",
    "Chaque point du chemin sera représenté par une liste à deux éléments entiers précisant les deux coordonnées (par exemple Pi = (5, −4) est représenté par la liste [5,-4]). Le chemin lui-même est constitué de la liste des points, dans l’ordre dans lequel ils sont atteints. Les codes Python produits dans cette partie devront manipuler exclusivement des coordonnées entières.\n",
    "Voici un exemple de représentation graphique de CAE de longueur 30 à partir de (0, 0) :"
   ]
  },
  {
   "cell_type": "markdown",
   "id": "37e5c7fc",
   "metadata": {},
   "source": [
    "<img src=\"fig/Mines21_1.pdf\" alt=\"image\" width=\"400\">"
   ]
  },
  {
   "cell_type": "markdown",
   "id": "91297c73",
   "metadata": {},
   "source": [
    "On s’intéresse dans un premier temps à une méthode naïve pour générer un chemin auto-évitant de longueur n sur une grille carrée. La méthode adoptée est une approche gloutonne :\n",
    "1. Le premier point est choisi à l’origine : $P_{0} = (0, 0)$.\n",
    "2. En chaque position atteinte par le chemin, on recense les positions voisines accessibles pour le pas\n",
    "suivant et on en sélectionne une au hasard. En l’absence de positions accessibles l’algorithme échoue. \n",
    "3. On itère l’étape 2 jusqu’à ce que le chemin possède la longueur désirée ou échoue.\n",
    "\n",
    "Le module random fournit la fonction **randrange(a, b)** qui renvoie un entier compris entre a et b − 1 inclus, ainsi que la fonction **choice(L)** qui renvoie l’un des éléments de la liste L, dans les deux cas choisis aléatoirement avec une probabilité uniforme.\n",
    "\n",
    "L’expression **x in L** est une expression booléenne qui vaut True si x est l’un des éléments de L et False dans le cas contraire. On supposera que la méthode employée pour évaluer cette expression sur une liste est une recherche séquentielle.\n",
    "\n",
    "La valeur spéciale **None** est utilisée en Python pour représenter une valeur invalide, inconnue ou indéfinie. L’expression booléenne **v is None** indique si la valeur de v est cette valeur spéciale.\n"
   ]
  },
  {
   "cell_type": "code",
   "execution_count": 1,
   "id": "96883039",
   "metadata": {},
   "outputs": [],
   "source": [
    "import matplotlib.pyplot as plt\n",
    "from random import randrange,choice"
   ]
  },
  {
   "cell_type": "markdown",
   "id": "e6a51bf1",
   "metadata": {},
   "source": [
    "Q13 − Implémenter la fonction positions_possibles(p, atteints) qui construit la liste des positions\n",
    "suivantes possibles à partir du point p. La liste atteints contient les points déjà atteints par le chemin."
   ]
  },
  {
   "cell_type": "code",
   "execution_count": 2,
   "id": "e8d6717b",
   "metadata": {},
   "outputs": [],
   "source": [
    "def positions_possibles(p,atteints) :\n",
    "    pass"
   ]
  },
  {
   "cell_type": "markdown",
   "id": "75b779e8",
   "metadata": {},
   "source": [
    "Q14−Mettre en évidence graphiquement un exemple de CAE le plus court possible pour lequel, à une étape donnée, la fonction positions_possibles va renvoyer une liste vide. En prenant en compte les symé- tries, combien de tels chemins distincts existent pour cette longueur minimale ?"
   ]
  },
  {
   "cell_type": "code",
   "execution_count": 3,
   "id": "cb49eb0a",
   "metadata": {},
   "outputs": [],
   "source": []
  },
  {
   "cell_type": "markdown",
   "id": "72d686cc",
   "metadata": {},
   "source": [
    "Q15−Implémenter la fonction genere_chemin_naif(n) qui construit la liste des points représentant le chemin auto-évitant de longueur n et renvoie le résultat, ou bien renvoie la valeur spéciale None si à une étape positions_possibles renvoie une liste vide."
   ]
  },
  {
   "cell_type": "code",
   "execution_count": 4,
   "id": "08f4bbe4",
   "metadata": {},
   "outputs": [],
   "source": [
    "def genere_chemin_naif(n) :\n",
    "    pass "
   ]
  },
  {
   "cell_type": "code",
   "execution_count": 5,
   "id": "d0e087cd",
   "metadata": {},
   "outputs": [
    {
     "data": {
      "image/png": "[encoded data removed]",
      "text/plain": [
       "<Figure size 432x288 with 1 Axes>"
      ]
     },
     "metadata": {
      "needs_background": "light"
     },
     "output_type": "display_data"
    }
   ],
   "source": [
    "N=100\n",
    "# print(\"chemin\",genere_chemin_naif(N))\n",
    "## zone de test\n",
    "\n",
    "monChemin=genere_chemin_naif(N)\n",
    "while monChemin==None :\n",
    "    monChemin=genere_chemin_naif(N)\n",
    "Lx=[point[0] for point in monChemin]\n",
    "Ly=[point[1] for point in monChemin]\n",
    "plt.plot(Lx,Ly)\n",
    "plt.grid(True)\n",
    "plt.axis(\"equal\")\n",
    "plt.show()"
   ]
  },
  {
   "cell_type": "markdown",
   "id": "3b287bb1",
   "metadata": {},
   "source": [
    "Q16−Évaluer avec soin la complexité temporelle asymptotique dans le pire des cas de la fonction genere_chemin_naif(n) en fonction de n, en supposant que la fonction ne renvoie pas None.\n"
   ]
  },
  {
   "cell_type": "markdown",
   "id": "9a2f9ca2",
   "metadata": {},
   "source": [
    "Une personne curieuse et patiente a écrit le code suivant :"
   ]
  },
  {
   "cell_type": "markdown",
   "id": "339dd3e1",
   "metadata": {},
   "source": [
    "<img src=\"fig/Mines21_2.pdf\" alt=\"Dessin\" width=\"400\">"
   ]
  },
  {
   "cell_type": "markdown",
   "id": "641247cc",
   "metadata": {},
   "source": [
    "Après un long moment, elle a obtenu le graphique suivant, volontairement laissé sans étiquettes d’axes :"
   ]
  },
  {
   "cell_type": "markdown",
   "id": "ac9678c8",
   "metadata": {},
   "source": [
    "<img src=\"fig/Mines21_3.pdf\" alt=\"dessin_3\" width=\"400\">"
   ]
  },
  {
   "cell_type": "markdown",
   "id": "9db04bb8",
   "metadata": {},
   "source": [
    "Q18−Rappeler, sans la justifier, la complexité temporelle asymptotique dans le pire des cas attendue de sorted en fonction de la longueur de la liste à trier. Donner le nom d’un algorithme possible pour son implémentation."
   ]
  },
  {
   "cell_type": "code",
   "execution_count": null,
   "id": "b018b827",
   "metadata": {},
   "outputs": [],
   "source": []
  },
  {
   "cell_type": "code",
   "execution_count": 7,
   "id": "0968c62e",
   "metadata": {},
   "outputs": [],
   "source": [
    "import matplotlib.pyplot as plt\n",
    "from random import randrange"
   ]
  },
  {
   "cell_type": "markdown",
   "id": "3aaf1c60",
   "metadata": {},
   "source": [
    "Q19 − Implémenter la fonction est_CAE(chemin) qui vérifie si un chemin est auto-évitant en se basant sur sorted et renvoie un résultat booléen. Elle devra ne pas être de complexité temporelle asymptotique dans le pire des cas supérieure à la fonction sorted : vous prouverez ce dernier point."
   ]
  },
  {
   "cell_type": "code",
   "execution_count": 2,
   "id": "edaf6131",
   "metadata": {},
   "outputs": [],
   "source": [
    "def est_CAE(chemin) :\n",
    "    pass"
   ]
  },
  {
   "cell_type": "markdown",
   "id": "4e1f90a8",
   "metadata": {},
   "source": [
    "Q20−Implémenter la fonction rot(p, q, a) qui renvoie le point image du point q par la rotation de centre p et d’angle défini par la valeur de a : 0 pour π, 1 pour π2, 2 pour −π2."
   ]
  },
  {
   "cell_type": "code",
   "execution_count": 3,
   "id": "40fa7ebc",
   "metadata": {},
   "outputs": [],
   "source": [
    "def rot(p,q,a) :\n",
    "    pass\n",
    "\n",
    "#print(rot([1,0],[5,0],1))"
   ]
  },
  {
   "cell_type": "markdown",
   "id": "213390fd",
   "metadata": {},
   "source": [
    "Q21 − Implémenter la fonction rotation(chemin, i_piv, a) qui renvoie un nouveau chemin identique à chemin jusqu’au pivot d’indice i_piv, et ayant subi une rotation de a autour du pivot (même codage que la fonction précédente) sur la partie strictement après le pivot."
   ]
  },
  {
   "cell_type": "code",
   "execution_count": 4,
   "id": "c2b926e1",
   "metadata": {},
   "outputs": [],
   "source": [
    "def rotation(chemin,i_pivot,a) :\n",
    "    pass\n",
    "\n",
    "#chem=[[k,0] for k in range(10)]\n",
    "#print(rotation(chem,4,1))"
   ]
  },
  {
   "cell_type": "markdown",
   "id": "2147b324",
   "metadata": {},
   "source": [
    "Q22 − Implémenter la fonction genere_chemin_pivot(n, n_rot) permettant de générer un chemin auto- évitant de longueur n en appliquant n_rot rotations. L’application d’une rotation peut nécessiter plusieurs tentatives."
   ]
  },
  {
   "cell_type": "code",
   "execution_count": 5,
   "id": "32af44af",
   "metadata": {},
   "outputs": [],
   "source": [
    "def genere_chemin_pivot(n,n_rot) :\n",
    "    pass"
   ]
  },
  {
   "cell_type": "markdown",
   "id": "abe523cd",
   "metadata": {},
   "source": [
    "On considère un pivot, son point précédent et son point suivant. Quel est l’impact prévisible sur les rotations admissibles ? Suggérer un moyen de prendre en compte cette propriété pour améliorer l’algorithme."
   ]
  },
  {
   "cell_type": "code",
   "execution_count": 9,
   "id": "624243ab",
   "metadata": {},
   "outputs": [
    {
     "data": {
      "image/png": "[encoded data removed]",
      "text/plain": [
       "<Figure size 432x288 with 1 Axes>"
      ]
     },
     "metadata": {
      "needs_background": "light"
     },
     "output_type": "display_data"
    }
   ],
   "source": [
    "N,A=1000,2.3\n",
    "#print(\"chemin\",genere_chemin_pivot(N,int(A*N)))\n",
    "## zone de test\n",
    "\n",
    "monChemin=genere_chemin_pivot(N,int(A*N))\n",
    "Lx=[point[0] for point in monChemin]\n",
    "Ly=[point[1] for point in monChemin]\n",
    "plt.plot(Lx,Ly)\n",
    "plt.axis(\"equal\")\n",
    "plt.show()"
   ]
  },
  {
   "cell_type": "code",
   "execution_count": null,
   "id": "df449d10",
   "metadata": {},
   "outputs": [],
   "source": []
  }
 ],
 "metadata": {
  "kernelspec": {
   "display_name": "Python 3",
   "language": "python",
   "name": "python3"
  },
  "language_info": {
   "codemirror_mode": {
    "name": "ipython",
    "version": 3
   },
   "file_extension": ".py",
   "mimetype": "text/x-python",
   "name": "python",
   "nbconvert_exporter": "python",
   "pygments_lexer": "ipython3",
   "version": "3.8.3"
  },
  "latex_envs": {
   "LaTeX_envs_menu_present": true,
   "autoclose": false,
   "autocomplete": true,
   "bibliofile": "biblio.bib",
   "cite_by": "apalike",
   "current_citInitial": 1,
   "eqLabelWithNumbers": true,
   "eqNumInitial": 1,
   "hotkeys": {
    "equation": "Ctrl-E",
    "itemize": "Ctrl-I"
   },
   "labels_anchors": false,
   "latex_user_defs": false,
   "report_style_numbering": false,
   "user_envs_cfg": false
  },
  "varInspector": {
   "cols": {
    "lenName": 16,
    "lenType": 16,
    "lenVar": 40
   },
   "kernels_config": {
    "python": {
     "delete_cmd_postfix": "",
     "delete_cmd_prefix": "del ",
     "library": "var_list.py",
     "varRefreshCmd": "print(var_dic_list())"
    },
    "r": {
     "delete_cmd_postfix": ") ",
     "delete_cmd_prefix": "rm(",
     "library": "var_list.r",
     "varRefreshCmd": "cat(var_dic_list()) "
    }
   },
   "types_to_exclude": [
    "module",
    "function",
    "builtin_function_or_method",
    "instance",
    "_Feature"
   ],
   "window_display": false
  }
 },
 "nbformat": 4,
 "nbformat_minor": 5
}
